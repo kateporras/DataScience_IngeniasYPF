{
  "nbformat": 4,
  "nbformat_minor": 0,
  "metadata": {
    "colab": {
      "provenance": []
    },
    "kernelspec": {
      "name": "python3",
      "display_name": "Python 3"
    },
    "language_info": {
      "name": "python"
    }
  },
  "cells": [
    {
      "cell_type": "markdown",
      "metadata": {
        "id": "Gp2WddtV9IwG"
      },
      "source": [
        "# Programa Ingenias+ Data Science"
      ]
    },
    {
      "cell_type": "markdown",
      "metadata": {
        "id": "X03mviQS9IyL"
      },
      "source": [
        "# Ejercicios\n",
        "\n",
        "1. Crear un arreglo de ceros de longitud 12\n",
        "2. Crear un arreglo de longitud 10 con ceros en todas sus posiciones y un 10 en la posición número 5\n",
        "3. Crear un arreglo que tenga los números del 10 al 49\n",
        "4. Crear una arreglo 2d de shape (3, 3) que tenga los números del 0 al 8\n",
        "5. Crear un arreglo de números aleatorios de longitud 100 y obtener su media y varianza\n",
        "6. Calcular la media de un arreglo usando np.sum\n",
        "7. Calcular la varianza de un arreglo usando np.sum y np.mean\n",
        "8. Crear un array de números aleatorios usando np.random.randn.\n"
      ]
    },
    {
      "cell_type": "code",
      "source": [
        "#Importar numpy\n",
        "import numpy as np"
      ],
      "metadata": {
        "id": "TYQWtbe8gQfl"
      },
      "execution_count": 1,
      "outputs": []
    },
    {
      "cell_type": "markdown",
      "source": [
        "1. Crear un arreglo de ceros de longitud 12"
      ],
      "metadata": {
        "id": "IUMx6iLzgUes"
      }
    },
    {
      "cell_type": "code",
      "source": [
        "ceros_12=np.zeros(12)\n",
        "print(ceros_12)"
      ],
      "metadata": {
        "colab": {
          "base_uri": "https://localhost:8080/"
        },
        "id": "SWVtF2WDgTnQ",
        "outputId": "5fd73a63-db78-4bfc-9d86-fe385ef7237c"
      },
      "execution_count": 4,
      "outputs": [
        {
          "output_type": "stream",
          "name": "stdout",
          "text": [
            "[0. 0. 0. 0. 0. 0. 0. 0. 0. 0. 0. 0.]\n"
          ]
        }
      ]
    },
    {
      "cell_type": "markdown",
      "source": [
        "2. Crear un arreglo de longitud 10 con ceros en todas sus posiciones y un 10 en la posición número 5"
      ],
      "metadata": {
        "id": "VSlapAwFhTqY"
      }
    },
    {
      "cell_type": "code",
      "source": [
        "ceros_10=np.zeros(10)\n",
        "ceros_10[5]=10\n",
        "print(ceros_10)"
      ],
      "metadata": {
        "colab": {
          "base_uri": "https://localhost:8080/"
        },
        "id": "IbOAKT3Bh8qF",
        "outputId": "edfdab86-ed62-4dcd-dbe5-186d59584e90"
      },
      "execution_count": 6,
      "outputs": [
        {
          "output_type": "stream",
          "name": "stdout",
          "text": [
            "[ 0.  0.  0.  0.  0. 10.  0.  0.  0.  0.]\n"
          ]
        }
      ]
    },
    {
      "cell_type": "markdown",
      "source": [
        "3. Crear un arreglo que tenga los números del 10 al 49"
      ],
      "metadata": {
        "id": "Rr-UZYZYieTd"
      }
    },
    {
      "cell_type": "code",
      "source": [
        "numeros_10_49=np.arange(10,50)\n",
        "print(numeros_10_49)"
      ],
      "metadata": {
        "colab": {
          "base_uri": "https://localhost:8080/"
        },
        "id": "pWhNTSP8iZ0s",
        "outputId": "7ef56d7f-0a46-4eaa-c38f-d6c62fdf67e7"
      },
      "execution_count": 7,
      "outputs": [
        {
          "output_type": "stream",
          "name": "stdout",
          "text": [
            "[10 11 12 13 14 15 16 17 18 19 20 21 22 23 24 25 26 27 28 29 30 31 32 33\n",
            " 34 35 36 37 38 39 40 41 42 43 44 45 46 47 48 49]\n"
          ]
        }
      ]
    },
    {
      "cell_type": "markdown",
      "source": [
        "4. Crear una arreglo 2d de shape (3, 3) que tenga los números del 0 al 8"
      ],
      "metadata": {
        "id": "i0XYSQtHpctl"
      }
    },
    {
      "cell_type": "code",
      "source": [
        "arrays3_3=np.arange(9).reshape(3,3)\n",
        "print(arrays3_3)"
      ],
      "metadata": {
        "colab": {
          "base_uri": "https://localhost:8080/"
        },
        "id": "WPOFwBthpa5z",
        "outputId": "22005c17-1c65-4d50-96a9-b9a032098f65"
      },
      "execution_count": 8,
      "outputs": [
        {
          "output_type": "stream",
          "name": "stdout",
          "text": [
            "[[0 1 2]\n",
            " [3 4 5]\n",
            " [6 7 8]]\n"
          ]
        }
      ]
    },
    {
      "cell_type": "markdown",
      "source": [
        "5. Crear un arreglo de números aleatorios de longitud 100 y obtener su media y varianza"
      ],
      "metadata": {
        "id": "G1Wz_P_ft2Dj"
      }
    },
    {
      "cell_type": "code",
      "source": [
        "aleatorio_enteros_100=np.random.randint(0,100,size=100)\n",
        "mediaE=aleatorio_enteros_100.mean()\n",
        "varianzaE=aleatorio_enteros_100.var()\n",
        "print(aleatorio_enteros_100)\n",
        "print(\" \")\n",
        "print(\"Media: \",mediaE)\n",
        "print(\" \")\n",
        "print(\"Varianza: \",varianzaE)"
      ],
      "metadata": {
        "colab": {
          "base_uri": "https://localhost:8080/"
        },
        "id": "9c9Z7QiWt7j9",
        "outputId": "5bfa9934-6116-4127-cca0-f47232ca187b"
      },
      "execution_count": 28,
      "outputs": [
        {
          "output_type": "stream",
          "name": "stdout",
          "text": [
            "[95 84 28 68 91 27 63 81 29 10 36  8 16 73 29  2 26 57 17 40 21 29 81 77\n",
            " 90 40  5 20 89  0 42  3 85 37 86 68 66 56 98 41 17 71 99 44  3 84 67 26\n",
            " 87 13 53 87 79 40 75 22 29  8 68 66 52 72 55 55 82 49 55 19 72  3 38  2\n",
            " 10 28 96 39 60 86 58 94 56 43  4 65 36  9 57 15 14 13 58 69 39 69 28 39\n",
            " 58 26 97  1]\n",
            " \n",
            "Media:  47.73\n",
            " \n",
            "Varianza:  844.9970999999999\n"
          ]
        }
      ]
    },
    {
      "cell_type": "code",
      "source": [
        "aleatorio_decimales_100=np.random.rand(100) # 100 numeros aleatorios entre 0 y 1\n",
        "mediaD=aleatorio_decimales_100.mean()\n",
        "varianzaD=aleatorio_decimales_100.var()\n",
        "print(aleatorio_decimales_100)\n",
        "print(\" \")\n",
        "print(\"Media: \",mediaD)\n",
        "print(\" \")\n",
        "print(\"Varianza: \",varianzaD)"
      ],
      "metadata": {
        "colab": {
          "base_uri": "https://localhost:8080/"
        },
        "id": "AQNv845iyMgM",
        "outputId": "97639b7c-6301-4e74-d7ff-b73143c9fcd3"
      },
      "execution_count": 30,
      "outputs": [
        {
          "output_type": "stream",
          "name": "stdout",
          "text": [
            "[0.56725171 0.72070988 0.32099604 0.11170622 0.70148385 0.73191028\n",
            " 0.81926083 0.47345599 0.33131647 0.9258322  0.36378458 0.67825909\n",
            " 0.74726992 0.9726639  0.42821672 0.20984551 0.84702724 0.69887959\n",
            " 0.04888058 0.85039042 0.10963856 0.83548585 0.61150824 0.51232784\n",
            " 0.92143783 0.89914583 0.70161052 0.97274578 0.64161197 0.37447892\n",
            " 0.15148163 0.26011334 0.32055787 0.11603728 0.41635403 0.98478798\n",
            " 0.32143185 0.07340961 0.73562987 0.08872788 0.94262258 0.72570844\n",
            " 0.66712491 0.82270567 0.61240575 0.68530842 0.03750053 0.33613776\n",
            " 0.46083806 0.90913726 0.17126391 0.1908703  0.64867747 0.80024528\n",
            " 0.89472584 0.6316763  0.30693328 0.47347986 0.27448364 0.69895806\n",
            " 0.5364466  0.083419   0.75987034 0.02592058 0.68512845 0.13434023\n",
            " 0.95910311 0.64206661 0.2617788  0.80147113 0.95265483 0.17313629\n",
            " 0.66479798 0.28578314 0.57881768 0.47916685 0.2515635  0.21632554\n",
            " 0.11352166 0.26345944 0.68872746 0.21233822 0.18852781 0.92374805\n",
            " 0.98549243 0.11635264 0.26331686 0.56061042 0.55118734 0.82199905\n",
            " 0.49726184 0.63343814 0.75250449 0.79089945 0.81268878 0.17750542\n",
            " 0.42767082 0.77100375 0.32002448 0.10064303]\n",
            " \n",
            "Media:  0.5235317921184677\n",
            " \n",
            "Varianza:  0.08239589187517399\n"
          ]
        }
      ]
    },
    {
      "cell_type": "markdown",
      "source": [
        "6. Calcular la media de un arreglo usando np.sum"
      ],
      "metadata": {
        "id": "_RXa52tIt85q"
      }
    },
    {
      "cell_type": "code",
      "source": [
        "mediaAux1=aleatorio_enteros_100.sum()/len(aleatorio_enteros_100)\n",
        "print(mediaAux1)"
      ],
      "metadata": {
        "colab": {
          "base_uri": "https://localhost:8080/"
        },
        "id": "tUByVfo3uAg6",
        "outputId": "656f8b0a-2787-4cc3-c292-ac13055ab7c7"
      },
      "execution_count": 35,
      "outputs": [
        {
          "output_type": "stream",
          "name": "stdout",
          "text": [
            "47.73\n"
          ]
        }
      ]
    },
    {
      "cell_type": "code",
      "source": [
        "mediaAux2=aleatorio_decimales_100.sum()/len(aleatorio_decimales_100)\n",
        "print(mediaAux2)"
      ],
      "metadata": {
        "colab": {
          "base_uri": "https://localhost:8080/"
        },
        "id": "XD86AfYG0RW3",
        "outputId": "5b6ea237-2d02-4e15-f597-4d2feebfe69e"
      },
      "execution_count": 36,
      "outputs": [
        {
          "output_type": "stream",
          "name": "stdout",
          "text": [
            "0.5235317921184677\n"
          ]
        }
      ]
    },
    {
      "cell_type": "markdown",
      "source": [
        "7. Calcular la varianza de un arreglo usando np.sum y np.mean"
      ],
      "metadata": {
        "id": "mHZfIie3uAwQ"
      }
    },
    {
      "cell_type": "markdown",
      "source": [
        "$Varianza= \\frac{1}{n} \\sum_{i=1}^{n}(x_i - \\bar{x})^2$"
      ],
      "metadata": {
        "id": "h06pT5nq4GGy"
      }
    },
    {
      "cell_type": "code",
      "source": [
        "varianzaAux1=((aleatorio_enteros_100-mediaE)**2).sum()/len(aleatorio_enteros_100)\n",
        "print(varianzaAux1)"
      ],
      "metadata": {
        "colab": {
          "base_uri": "https://localhost:8080/"
        },
        "id": "zjSeSMx44Fwa",
        "outputId": "b444ea18-a9f8-46bf-ae29-e84a4ec70d17"
      },
      "execution_count": 37,
      "outputs": [
        {
          "output_type": "stream",
          "name": "stdout",
          "text": [
            "844.9970999999999\n"
          ]
        }
      ]
    },
    {
      "cell_type": "code",
      "source": [
        "varianzaAux2=((aleatorio_decimales_100-mediaD)**2).sum()/len(aleatorio_decimales_100)\n",
        "print(varianzaAux2)"
      ],
      "metadata": {
        "colab": {
          "base_uri": "https://localhost:8080/"
        },
        "id": "yezzIa-_5Ss5",
        "outputId": "407fb544-ee0d-42d6-c855-9bf240e423ed"
      },
      "execution_count": 38,
      "outputs": [
        {
          "output_type": "stream",
          "name": "stdout",
          "text": [
            "0.08239589187517399\n"
          ]
        }
      ]
    },
    {
      "cell_type": "markdown",
      "source": [
        "8. Crear un array de números aleatorios usando np.random.randn."
      ],
      "metadata": {
        "id": "1z4LrnwXuEMk"
      }
    },
    {
      "cell_type": "code",
      "source": [
        "numAleatorios=np.random.randn(10)\n",
        "print(numAleatorios)"
      ],
      "metadata": {
        "colab": {
          "base_uri": "https://localhost:8080/"
        },
        "id": "AIeHAUNvuIEy",
        "outputId": "1dc1bddf-462a-4e56-b318-9e60c86585a0"
      },
      "execution_count": 51,
      "outputs": [
        {
          "output_type": "stream",
          "name": "stdout",
          "text": [
            "[-0.50716675  2.41280847  0.88350014 -0.66091356 -0.44853549  1.97065634\n",
            "  2.25562031  0.79471465 -0.45486895 -0.69373616]\n"
          ]
        }
      ]
    },
    {
      "cell_type": "code",
      "source": [
        "numAleatorios.mean()"
      ],
      "metadata": {
        "colab": {
          "base_uri": "https://localhost:8080/"
        },
        "id": "RKxPkGfU6yw_",
        "outputId": "62e2cf1a-2068-43dc-b0a6-03612f1ec37a"
      },
      "execution_count": 52,
      "outputs": [
        {
          "output_type": "execute_result",
          "data": {
            "text/plain": [
              "np.float64(0.5552078989600456)"
            ]
          },
          "metadata": {},
          "execution_count": 52
        }
      ]
    }
  ]
}